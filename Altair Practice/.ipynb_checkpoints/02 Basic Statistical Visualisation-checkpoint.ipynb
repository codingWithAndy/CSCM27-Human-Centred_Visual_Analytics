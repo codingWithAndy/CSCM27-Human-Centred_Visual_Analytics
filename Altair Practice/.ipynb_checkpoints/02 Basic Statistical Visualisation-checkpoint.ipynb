{
 "cells": [
  {
   "cell_type": "code",
   "execution_count": 1,
   "metadata": {},
   "outputs": [],
   "source": [
    "%matplotlib inline\n",
    "import pandas as pd\n",
    "import numpy as np"
   ]
  },
  {
   "cell_type": "code",
   "execution_count": 2,
   "metadata": {},
   "outputs": [],
   "source": [
    "df1 = pd.DataFrame({'a':list('AAABBBCCC'),\n",
    "                    'b':np.random.randn(9)})"
   ]
  },
  {
   "cell_type": "code",
   "execution_count": 3,
   "metadata": {},
   "outputs": [
    {
     "data": {
      "text/html": [
       "<div>\n",
       "<style scoped>\n",
       "    .dataframe tbody tr th:only-of-type {\n",
       "        vertical-align: middle;\n",
       "    }\n",
       "\n",
       "    .dataframe tbody tr th {\n",
       "        vertical-align: top;\n",
       "    }\n",
       "\n",
       "    .dataframe thead th {\n",
       "        text-align: right;\n",
       "    }\n",
       "</style>\n",
       "<table border=\"1\" class=\"dataframe\">\n",
       "  <thead>\n",
       "    <tr style=\"text-align: right;\">\n",
       "      <th></th>\n",
       "      <th>a</th>\n",
       "      <th>b</th>\n",
       "    </tr>\n",
       "  </thead>\n",
       "  <tbody>\n",
       "    <tr>\n",
       "      <th>0</th>\n",
       "      <td>A</td>\n",
       "      <td>0.337710</td>\n",
       "    </tr>\n",
       "    <tr>\n",
       "      <th>1</th>\n",
       "      <td>A</td>\n",
       "      <td>-0.997589</td>\n",
       "    </tr>\n",
       "    <tr>\n",
       "      <th>2</th>\n",
       "      <td>A</td>\n",
       "      <td>-1.318631</td>\n",
       "    </tr>\n",
       "    <tr>\n",
       "      <th>3</th>\n",
       "      <td>B</td>\n",
       "      <td>1.247773</td>\n",
       "    </tr>\n",
       "    <tr>\n",
       "      <th>4</th>\n",
       "      <td>B</td>\n",
       "      <td>0.551558</td>\n",
       "    </tr>\n",
       "    <tr>\n",
       "      <th>5</th>\n",
       "      <td>B</td>\n",
       "      <td>-0.786875</td>\n",
       "    </tr>\n",
       "    <tr>\n",
       "      <th>6</th>\n",
       "      <td>C</td>\n",
       "      <td>-0.621777</td>\n",
       "    </tr>\n",
       "    <tr>\n",
       "      <th>7</th>\n",
       "      <td>C</td>\n",
       "      <td>0.664908</td>\n",
       "    </tr>\n",
       "    <tr>\n",
       "      <th>8</th>\n",
       "      <td>C</td>\n",
       "      <td>0.570364</td>\n",
       "    </tr>\n",
       "  </tbody>\n",
       "</table>\n",
       "</div>"
      ],
      "text/plain": [
       "   a         b\n",
       "0  A  0.337710\n",
       "1  A -0.997589\n",
       "2  A -1.318631\n",
       "3  B  1.247773\n",
       "4  B  0.551558\n",
       "5  B -0.786875\n",
       "6  C -0.621777\n",
       "7  C  0.664908\n",
       "8  C  0.570364"
      ]
     },
     "execution_count": 3,
     "metadata": {},
     "output_type": "execute_result"
    }
   ],
   "source": [
    "df1"
   ]
  },
  {
   "cell_type": "code",
   "execution_count": 4,
   "metadata": {},
   "outputs": [],
   "source": [
    "import altair as alt"
   ]
  },
  {
   "cell_type": "code",
   "execution_count": 5,
   "metadata": {},
   "outputs": [
    {
     "data": {
      "text/plain": [
       "RendererRegistry.enable('notebook')"
      ]
     },
     "execution_count": 5,
     "metadata": {},
     "output_type": "execute_result"
    }
   ],
   "source": [
    "alt.renderers.enable('notebook')"
   ]
  },
  {
   "cell_type": "code",
   "execution_count": 6,
   "metadata": {},
   "outputs": [],
   "source": [
    "chart = alt.Chart(df1)"
   ]
  },
  {
   "cell_type": "code",
   "execution_count": 7,
   "metadata": {},
   "outputs": [
    {
     "data": {
      "text/plain": [
       "altair.vegalite.v3.api.Chart"
      ]
     },
     "execution_count": 7,
     "metadata": {},
     "output_type": "execute_result"
    }
   ],
   "source": [
    "type(chart)"
   ]
  },
  {
   "cell_type": "code",
   "execution_count": 8,
   "metadata": {},
   "outputs": [
    {
     "data": {
      "application/javascript": [
       "const spec = {\"config\": {\"view\": {\"width\": 400, \"height\": 300}, \"mark\": {\"tooltip\": null}}, \"data\": {\"name\": \"data-6551d11dc8752f99bba2a02b538e0099\"}, \"mark\": \"point\", \"$schema\": \"https://vega.github.io/schema/vega-lite/v3.4.0.json\", \"datasets\": {\"data-6551d11dc8752f99bba2a02b538e0099\": [{\"a\": \"A\", \"b\": 0.33770973021649064}, {\"a\": \"A\", \"b\": -0.9975886947553748}, {\"a\": \"A\", \"b\": -1.3186306622750028}, {\"a\": \"B\", \"b\": 1.2477734240703653}, {\"a\": \"B\", \"b\": 0.5515576989372529}, {\"a\": \"B\", \"b\": -0.7868754398294089}, {\"a\": \"C\", \"b\": -0.6217767330639045}, {\"a\": \"C\", \"b\": 0.6649077768973162}, {\"a\": \"C\", \"b\": 0.5703644914862741}]}};\n",
       "const opt = {};\n",
       "const type = \"vega-lite\";\n",
       "const id = \"f2be792d-2d66-4f0e-a818-2fdf7e441933\";\n",
       "\n",
       "const output_area = this;\n",
       "\n",
       "require([\"nbextensions/jupyter-vega/index\"], function(vega) {\n",
       "  const target = document.createElement(\"div\");\n",
       "  target.id = id;\n",
       "  target.className = \"vega-embed\";\n",
       "\n",
       "  const style = document.createElement(\"style\");\n",
       "  style.textContent = [\n",
       "    \".vega-embed .error p {\",\n",
       "    \"  color: firebrick;\",\n",
       "    \"  font-size: 14px;\",\n",
       "    \"}\",\n",
       "  ].join(\"\\\\n\");\n",
       "\n",
       "  // element is a jQuery wrapped DOM element inside the output area\n",
       "  // see http://ipython.readthedocs.io/en/stable/api/generated/\\\n",
       "  // IPython.display.html#IPython.display.Javascript.__init__\n",
       "  element[0].appendChild(target);\n",
       "  element[0].appendChild(style);\n",
       "\n",
       "  vega.render(\"#\" + id, spec, type, opt, output_area);\n",
       "}, function (err) {\n",
       "  if (err.requireType !== \"scripterror\") {\n",
       "    throw(err);\n",
       "  }\n",
       "});\n"
      ],
      "text/plain": [
       "<vega.vegalite.VegaLite at 0x11cad4f28>"
      ]
     },
     "metadata": {
      "jupyter-vega": "#f2be792d-2d66-4f0e-a818-2fdf7e441933"
     },
     "output_type": "display_data"
    },
    {
     "data": {
      "text/plain": []
     },
     "execution_count": 8,
     "metadata": {},
     "output_type": "execute_result"
    },
    {
     "data": {
      "image/png": "[encoded data removed]"
     },
     "metadata": {
      "jupyter-vega": "#f2be792d-2d66-4f0e-a818-2fdf7e441933"
     },
     "output_type": "display_data"
    }
   ],
   "source": [
    "chart.mark_point()"
   ]
  },
  {
   "cell_type": "code",
   "execution_count": 9,
   "metadata": {},
   "outputs": [
    {
     "data": {
      "application/javascript": [
       "const spec = {\"config\": {\"view\": {\"width\": 400, \"height\": 300}, \"mark\": {\"tooltip\": null}}, \"data\": {\"name\": \"data-6551d11dc8752f99bba2a02b538e0099\"}, \"mark\": \"point\", \"$schema\": \"https://vega.github.io/schema/vega-lite/v3.4.0.json\", \"datasets\": {\"data-6551d11dc8752f99bba2a02b538e0099\": [{\"a\": \"A\", \"b\": 0.33770973021649064}, {\"a\": \"A\", \"b\": -0.9975886947553748}, {\"a\": \"A\", \"b\": -1.3186306622750028}, {\"a\": \"B\", \"b\": 1.2477734240703653}, {\"a\": \"B\", \"b\": 0.5515576989372529}, {\"a\": \"B\", \"b\": -0.7868754398294089}, {\"a\": \"C\", \"b\": -0.6217767330639045}, {\"a\": \"C\", \"b\": 0.6649077768973162}, {\"a\": \"C\", \"b\": 0.5703644914862741}]}};\n",
       "const opt = {};\n",
       "const type = \"vega-lite\";\n",
       "const id = \"22b5c488-52a8-4132-8b04-dc26a3cd433a\";\n",
       "\n",
       "const output_area = this;\n",
       "\n",
       "require([\"nbextensions/jupyter-vega/index\"], function(vega) {\n",
       "  const target = document.createElement(\"div\");\n",
       "  target.id = id;\n",
       "  target.className = \"vega-embed\";\n",
       "\n",
       "  const style = document.createElement(\"style\");\n",
       "  style.textContent = [\n",
       "    \".vega-embed .error p {\",\n",
       "    \"  color: firebrick;\",\n",
       "    \"  font-size: 14px;\",\n",
       "    \"}\",\n",
       "  ].join(\"\\\\n\");\n",
       "\n",
       "  // element is a jQuery wrapped DOM element inside the output area\n",
       "  // see http://ipython.readthedocs.io/en/stable/api/generated/\\\n",
       "  // IPython.display.html#IPython.display.Javascript.__init__\n",
       "  element[0].appendChild(target);\n",
       "  element[0].appendChild(style);\n",
       "\n",
       "  vega.render(\"#\" + id, spec, type, opt, output_area);\n",
       "}, function (err) {\n",
       "  if (err.requireType !== \"scripterror\") {\n",
       "    throw(err);\n",
       "  }\n",
       "});\n"
      ],
      "text/plain": [
       "<vega.vegalite.VegaLite at 0x11caf5dd8>"
      ]
     },
     "metadata": {
      "jupyter-vega": "#22b5c488-52a8-4132-8b04-dc26a3cd433a"
     },
     "output_type": "display_data"
    },
    {
     "data": {
      "text/plain": []
     },
     "execution_count": 9,
     "metadata": {},
     "output_type": "execute_result"
    },
    {
     "data": {
      "image/png": "[encoded data removed]"
     },
     "metadata": {
      "jupyter-vega": "#22b5c488-52a8-4132-8b04-dc26a3cd433a"
     },
     "output_type": "display_data"
    }
   ],
   "source": [
    "alt.Chart(df1).mark_point() #short hand of version above."
   ]
  },
  {
   "cell_type": "code",
   "execution_count": 10,
   "metadata": {},
   "outputs": [
    {
     "data": {
      "application/javascript": [
       "const spec = {\"config\": {\"view\": {\"width\": 400, \"height\": 300}, \"mark\": {\"tooltip\": null}}, \"data\": {\"name\": \"data-6551d11dc8752f99bba2a02b538e0099\"}, \"mark\": \"point\", \"encoding\": {\"x\": {\"type\": \"nominal\", \"field\": \"a\"}, \"y\": {\"type\": \"quantitative\", \"field\": \"b\"}}, \"$schema\": \"https://vega.github.io/schema/vega-lite/v3.4.0.json\", \"datasets\": {\"data-6551d11dc8752f99bba2a02b538e0099\": [{\"a\": \"A\", \"b\": 0.33770973021649064}, {\"a\": \"A\", \"b\": -0.9975886947553748}, {\"a\": \"A\", \"b\": -1.3186306622750028}, {\"a\": \"B\", \"b\": 1.2477734240703653}, {\"a\": \"B\", \"b\": 0.5515576989372529}, {\"a\": \"B\", \"b\": -0.7868754398294089}, {\"a\": \"C\", \"b\": -0.6217767330639045}, {\"a\": \"C\", \"b\": 0.6649077768973162}, {\"a\": \"C\", \"b\": 0.5703644914862741}]}};\n",
       "const opt = {};\n",
       "const type = \"vega-lite\";\n",
       "const id = \"1184e5f2-54e7-4f6f-b557-7b97858fc5f2\";\n",
       "\n",
       "const output_area = this;\n",
       "\n",
       "require([\"nbextensions/jupyter-vega/index\"], function(vega) {\n",
       "  const target = document.createElement(\"div\");\n",
       "  target.id = id;\n",
       "  target.className = \"vega-embed\";\n",
       "\n",
       "  const style = document.createElement(\"style\");\n",
       "  style.textContent = [\n",
       "    \".vega-embed .error p {\",\n",
       "    \"  color: firebrick;\",\n",
       "    \"  font-size: 14px;\",\n",
       "    \"}\",\n",
       "  ].join(\"\\\\n\");\n",
       "\n",
       "  // element is a jQuery wrapped DOM element inside the output area\n",
       "  // see http://ipython.readthedocs.io/en/stable/api/generated/\\\n",
       "  // IPython.display.html#IPython.display.Javascript.__init__\n",
       "  element[0].appendChild(target);\n",
       "  element[0].appendChild(style);\n",
       "\n",
       "  vega.render(\"#\" + id, spec, type, opt, output_area);\n",
       "}, function (err) {\n",
       "  if (err.requireType !== \"scripterror\") {\n",
       "    throw(err);\n",
       "  }\n",
       "});\n"
      ],
      "text/plain": [
       "<vega.vegalite.VegaLite at 0x11cb1b320>"
      ]
     },
     "metadata": {
      "jupyter-vega": "#1184e5f2-54e7-4f6f-b557-7b97858fc5f2"
     },
     "output_type": "display_data"
    },
    {
     "data": {
      "text/plain": []
     },
     "execution_count": 10,
     "metadata": {},
     "output_type": "execute_result"
    },
    {
     "data": {
      "image/png": "[encoded data removed]"
     },
     "metadata": {
      "jupyter-vega": "#1184e5f2-54e7-4f6f-b557-7b97858fc5f2"
     },
     "output_type": "display_data"
    }
   ],
   "source": [
    "alt.Chart(df1).mark_point().encode(\n",
    "x = 'a',\n",
    "y = 'b')"
   ]
  },
  {
   "cell_type": "code",
   "execution_count": 13,
   "metadata": {},
   "outputs": [
    {
     "data": {
      "application/javascript": [
       "const spec = {\"config\": {\"view\": {\"width\": 400, \"height\": 300}, \"mark\": {\"tooltip\": null}}, \"data\": {\"name\": \"data-6551d11dc8752f99bba2a02b538e0099\"}, \"mark\": \"point\", \"encoding\": {\"size\": {\"type\": \"quantitative\", \"field\": \"b\"}, \"x\": {\"type\": \"nominal\", \"field\": \"a\"}, \"y\": {\"type\": \"quantitative\", \"field\": \"b\"}}, \"$schema\": \"https://vega.github.io/schema/vega-lite/v3.4.0.json\", \"datasets\": {\"data-6551d11dc8752f99bba2a02b538e0099\": [{\"a\": \"A\", \"b\": 0.33770973021649064}, {\"a\": \"A\", \"b\": -0.9975886947553748}, {\"a\": \"A\", \"b\": -1.3186306622750028}, {\"a\": \"B\", \"b\": 1.2477734240703653}, {\"a\": \"B\", \"b\": 0.5515576989372529}, {\"a\": \"B\", \"b\": -0.7868754398294089}, {\"a\": \"C\", \"b\": -0.6217767330639045}, {\"a\": \"C\", \"b\": 0.6649077768973162}, {\"a\": \"C\", \"b\": 0.5703644914862741}]}};\n",
       "const opt = {};\n",
       "const type = \"vega-lite\";\n",
       "const id = \"7bbcd8ad-99af-453c-a3fd-4977c2a7869c\";\n",
       "\n",
       "const output_area = this;\n",
       "\n",
       "require([\"nbextensions/jupyter-vega/index\"], function(vega) {\n",
       "  const target = document.createElement(\"div\");\n",
       "  target.id = id;\n",
       "  target.className = \"vega-embed\";\n",
       "\n",
       "  const style = document.createElement(\"style\");\n",
       "  style.textContent = [\n",
       "    \".vega-embed .error p {\",\n",
       "    \"  color: firebrick;\",\n",
       "    \"  font-size: 14px;\",\n",
       "    \"}\",\n",
       "  ].join(\"\\\\n\");\n",
       "\n",
       "  // element is a jQuery wrapped DOM element inside the output area\n",
       "  // see http://ipython.readthedocs.io/en/stable/api/generated/\\\n",
       "  // IPython.display.html#IPython.display.Javascript.__init__\n",
       "  element[0].appendChild(target);\n",
       "  element[0].appendChild(style);\n",
       "\n",
       "  vega.render(\"#\" + id, spec, type, opt, output_area);\n",
       "}, function (err) {\n",
       "  if (err.requireType !== \"scripterror\") {\n",
       "    throw(err);\n",
       "  }\n",
       "});\n"
      ],
      "text/plain": [
       "<vega.vegalite.VegaLite at 0x11cb38630>"
      ]
     },
     "metadata": {
      "jupyter-vega": "#7bbcd8ad-99af-453c-a3fd-4977c2a7869c"
     },
     "output_type": "display_data"
    },
    {
     "data": {
      "text/plain": []
     },
     "execution_count": 13,
     "metadata": {},
     "output_type": "execute_result"
    },
    {
     "data": {
      "image/png": "[encoded data removed]"
     },
     "metadata": {
      "jupyter-vega": "#7bbcd8ad-99af-453c-a3fd-4977c2a7869c"
     },
     "output_type": "display_data"
    }
   ],
   "source": [
    "alt.Chart(df1).mark_point().encode(\n",
    "x = 'a',\n",
    "y = 'b',\n",
    "size = 'b')"
   ]
  },
  {
   "cell_type": "markdown",
   "metadata": {},
   "source": [
    "# Data Transformation: Aggregation"
   ]
  },
  {
   "cell_type": "code",
   "execution_count": 15,
   "metadata": {},
   "outputs": [
    {
     "data": {
      "application/javascript": [
       "const spec = {\"config\": {\"view\": {\"width\": 400, \"height\": 300}, \"mark\": {\"tooltip\": null}}, \"data\": {\"name\": \"data-6551d11dc8752f99bba2a02b538e0099\"}, \"mark\": \"point\", \"encoding\": {\"x\": {\"type\": \"nominal\", \"field\": \"a\"}, \"y\": {\"type\": \"quantitative\", \"aggregate\": \"average\", \"field\": \"b\"}}, \"$schema\": \"https://vega.github.io/schema/vega-lite/v3.4.0.json\", \"datasets\": {\"data-6551d11dc8752f99bba2a02b538e0099\": [{\"a\": \"A\", \"b\": 0.33770973021649064}, {\"a\": \"A\", \"b\": -0.9975886947553748}, {\"a\": \"A\", \"b\": -1.3186306622750028}, {\"a\": \"B\", \"b\": 1.2477734240703653}, {\"a\": \"B\", \"b\": 0.5515576989372529}, {\"a\": \"B\", \"b\": -0.7868754398294089}, {\"a\": \"C\", \"b\": -0.6217767330639045}, {\"a\": \"C\", \"b\": 0.6649077768973162}, {\"a\": \"C\", \"b\": 0.5703644914862741}]}};\n",
       "const opt = {};\n",
       "const type = \"vega-lite\";\n",
       "const id = \"ec56866b-15b4-4f40-8943-affcf0b220e0\";\n",
       "\n",
       "const output_area = this;\n",
       "\n",
       "require([\"nbextensions/jupyter-vega/index\"], function(vega) {\n",
       "  const target = document.createElement(\"div\");\n",
       "  target.id = id;\n",
       "  target.className = \"vega-embed\";\n",
       "\n",
       "  const style = document.createElement(\"style\");\n",
       "  style.textContent = [\n",
       "    \".vega-embed .error p {\",\n",
       "    \"  color: firebrick;\",\n",
       "    \"  font-size: 14px;\",\n",
       "    \"}\",\n",
       "  ].join(\"\\\\n\");\n",
       "\n",
       "  // element is a jQuery wrapped DOM element inside the output area\n",
       "  // see http://ipython.readthedocs.io/en/stable/api/generated/\\\n",
       "  // IPython.display.html#IPython.display.Javascript.__init__\n",
       "  element[0].appendChild(target);\n",
       "  element[0].appendChild(style);\n",
       "\n",
       "  vega.render(\"#\" + id, spec, type, opt, output_area);\n",
       "}, function (err) {\n",
       "  if (err.requireType !== \"scripterror\") {\n",
       "    throw(err);\n",
       "  }\n",
       "});\n"
      ],
      "text/plain": [
       "<vega.vegalite.VegaLite at 0x11cb38748>"
      ]
     },
     "metadata": {
      "jupyter-vega": "#ec56866b-15b4-4f40-8943-affcf0b220e0"
     },
     "output_type": "display_data"
    },
    {
     "data": {
      "text/plain": []
     },
     "execution_count": 15,
     "metadata": {},
     "output_type": "execute_result"
    },
    {
     "data": {
      "image/png": "[encoded data removed]"
     },
     "metadata": {
      "jupyter-vega": "#ec56866b-15b4-4f40-8943-affcf0b220e0"
     },
     "output_type": "display_data"
    }
   ],
   "source": [
    "alt.Chart(df1).mark_point().encode(\n",
    "x = 'a',\n",
    "y = 'average(b)')"
   ]
  },
  {
   "cell_type": "code",
   "execution_count": 16,
   "metadata": {},
   "outputs": [
    {
     "data": {
      "application/javascript": [
       "const spec = {\"config\": {\"view\": {\"width\": 400, \"height\": 300}, \"mark\": {\"tooltip\": null}}, \"data\": {\"name\": \"data-6551d11dc8752f99bba2a02b538e0099\"}, \"mark\": \"point\", \"encoding\": {\"x\": {\"type\": \"nominal\", \"field\": \"a\"}, \"y\": {\"type\": \"quantitative\", \"aggregate\": \"sum\", \"field\": \"b\"}}, \"$schema\": \"https://vega.github.io/schema/vega-lite/v3.4.0.json\", \"datasets\": {\"data-6551d11dc8752f99bba2a02b538e0099\": [{\"a\": \"A\", \"b\": 0.33770973021649064}, {\"a\": \"A\", \"b\": -0.9975886947553748}, {\"a\": \"A\", \"b\": -1.3186306622750028}, {\"a\": \"B\", \"b\": 1.2477734240703653}, {\"a\": \"B\", \"b\": 0.5515576989372529}, {\"a\": \"B\", \"b\": -0.7868754398294089}, {\"a\": \"C\", \"b\": -0.6217767330639045}, {\"a\": \"C\", \"b\": 0.6649077768973162}, {\"a\": \"C\", \"b\": 0.5703644914862741}]}};\n",
       "const opt = {};\n",
       "const type = \"vega-lite\";\n",
       "const id = \"765118ac-faf2-46a1-9d07-be96847d2200\";\n",
       "\n",
       "const output_area = this;\n",
       "\n",
       "require([\"nbextensions/jupyter-vega/index\"], function(vega) {\n",
       "  const target = document.createElement(\"div\");\n",
       "  target.id = id;\n",
       "  target.className = \"vega-embed\";\n",
       "\n",
       "  const style = document.createElement(\"style\");\n",
       "  style.textContent = [\n",
       "    \".vega-embed .error p {\",\n",
       "    \"  color: firebrick;\",\n",
       "    \"  font-size: 14px;\",\n",
       "    \"}\",\n",
       "  ].join(\"\\\\n\");\n",
       "\n",
       "  // element is a jQuery wrapped DOM element inside the output area\n",
       "  // see http://ipython.readthedocs.io/en/stable/api/generated/\\\n",
       "  // IPython.display.html#IPython.display.Javascript.__init__\n",
       "  element[0].appendChild(target);\n",
       "  element[0].appendChild(style);\n",
       "\n",
       "  vega.render(\"#\" + id, spec, type, opt, output_area);\n",
       "}, function (err) {\n",
       "  if (err.requireType !== \"scripterror\") {\n",
       "    throw(err);\n",
       "  }\n",
       "});\n"
      ],
      "text/plain": [
       "<vega.vegalite.VegaLite at 0x11cb5ce48>"
      ]
     },
     "metadata": {
      "jupyter-vega": "#765118ac-faf2-46a1-9d07-be96847d2200"
     },
     "output_type": "display_data"
    },
    {
     "data": {
      "text/plain": []
     },
     "execution_count": 16,
     "metadata": {},
     "output_type": "execute_result"
    },
    {
     "data": {
      "image/png": "[encoded data removed]"
     },
     "metadata": {
      "jupyter-vega": "#765118ac-faf2-46a1-9d07-be96847d2200"
     },
     "output_type": "display_data"
    }
   ],
   "source": [
    "alt.Chart(df1).mark_point().encode(\n",
    "x = 'a',\n",
    "y = 'sum(b)')"
   ]
  },
  {
   "cell_type": "code",
   "execution_count": 18,
   "metadata": {},
   "outputs": [
    {
     "data": {
      "application/javascript": [
       "const spec = {\"config\": {\"view\": {\"width\": 400, \"height\": 300}, \"mark\": {\"tooltip\": null}}, \"data\": {\"name\": \"data-6551d11dc8752f99bba2a02b538e0099\"}, \"mark\": \"bar\", \"encoding\": {\"x\": {\"type\": \"nominal\", \"field\": \"a\"}, \"y\": {\"type\": \"quantitative\", \"field\": \"b\"}}, \"$schema\": \"https://vega.github.io/schema/vega-lite/v3.4.0.json\", \"datasets\": {\"data-6551d11dc8752f99bba2a02b538e0099\": [{\"a\": \"A\", \"b\": 0.33770973021649064}, {\"a\": \"A\", \"b\": -0.9975886947553748}, {\"a\": \"A\", \"b\": -1.3186306622750028}, {\"a\": \"B\", \"b\": 1.2477734240703653}, {\"a\": \"B\", \"b\": 0.5515576989372529}, {\"a\": \"B\", \"b\": -0.7868754398294089}, {\"a\": \"C\", \"b\": -0.6217767330639045}, {\"a\": \"C\", \"b\": 0.6649077768973162}, {\"a\": \"C\", \"b\": 0.5703644914862741}]}};\n",
       "const opt = {};\n",
       "const type = \"vega-lite\";\n",
       "const id = \"a882ed69-d549-4cf5-98a3-b363080026da\";\n",
       "\n",
       "const output_area = this;\n",
       "\n",
       "require([\"nbextensions/jupyter-vega/index\"], function(vega) {\n",
       "  const target = document.createElement(\"div\");\n",
       "  target.id = id;\n",
       "  target.className = \"vega-embed\";\n",
       "\n",
       "  const style = document.createElement(\"style\");\n",
       "  style.textContent = [\n",
       "    \".vega-embed .error p {\",\n",
       "    \"  color: firebrick;\",\n",
       "    \"  font-size: 14px;\",\n",
       "    \"}\",\n",
       "  ].join(\"\\\\n\");\n",
       "\n",
       "  // element is a jQuery wrapped DOM element inside the output area\n",
       "  // see http://ipython.readthedocs.io/en/stable/api/generated/\\\n",
       "  // IPython.display.html#IPython.display.Javascript.__init__\n",
       "  element[0].appendChild(target);\n",
       "  element[0].appendChild(style);\n",
       "\n",
       "  vega.render(\"#\" + id, spec, type, opt, output_area);\n",
       "}, function (err) {\n",
       "  if (err.requireType !== \"scripterror\") {\n",
       "    throw(err);\n",
       "  }\n",
       "});\n"
      ],
      "text/plain": [
       "<vega.vegalite.VegaLite at 0x11cb38eb8>"
      ]
     },
     "metadata": {
      "jupyter-vega": "#a882ed69-d549-4cf5-98a3-b363080026da"
     },
     "output_type": "display_data"
    },
    {
     "data": {
      "text/plain": []
     },
     "execution_count": 18,
     "metadata": {},
     "output_type": "execute_result"
    },
    {
     "data": {
      "image/png": "[encoded data removed]"
     },
     "metadata": {
      "jupyter-vega": "#a882ed69-d549-4cf5-98a3-b363080026da"
     },
     "output_type": "display_data"
    }
   ],
   "source": [
    "#This will create bar charts\n",
    "alt.Chart(df1).mark_bar().encode(\n",
    "x = 'a',\n",
    "y = 'b')"
   ]
  },
  {
   "cell_type": "code",
   "execution_count": 19,
   "metadata": {},
   "outputs": [
    {
     "data": {
      "application/javascript": [
       "const spec = {\"config\": {\"view\": {\"width\": 400, \"height\": 300}, \"mark\": {\"tooltip\": null}}, \"data\": {\"name\": \"data-6551d11dc8752f99bba2a02b538e0099\"}, \"mark\": \"bar\", \"encoding\": {\"x\": {\"type\": \"nominal\", \"field\": \"a\"}, \"y\": {\"type\": \"quantitative\", \"aggregate\": \"average\", \"field\": \"b\"}}, \"$schema\": \"https://vega.github.io/schema/vega-lite/v3.4.0.json\", \"datasets\": {\"data-6551d11dc8752f99bba2a02b538e0099\": [{\"a\": \"A\", \"b\": 0.33770973021649064}, {\"a\": \"A\", \"b\": -0.9975886947553748}, {\"a\": \"A\", \"b\": -1.3186306622750028}, {\"a\": \"B\", \"b\": 1.2477734240703653}, {\"a\": \"B\", \"b\": 0.5515576989372529}, {\"a\": \"B\", \"b\": -0.7868754398294089}, {\"a\": \"C\", \"b\": -0.6217767330639045}, {\"a\": \"C\", \"b\": 0.6649077768973162}, {\"a\": \"C\", \"b\": 0.5703644914862741}]}};\n",
       "const opt = {};\n",
       "const type = \"vega-lite\";\n",
       "const id = \"3229b6c5-9876-4db1-9d06-e01a408ed1b2\";\n",
       "\n",
       "const output_area = this;\n",
       "\n",
       "require([\"nbextensions/jupyter-vega/index\"], function(vega) {\n",
       "  const target = document.createElement(\"div\");\n",
       "  target.id = id;\n",
       "  target.className = \"vega-embed\";\n",
       "\n",
       "  const style = document.createElement(\"style\");\n",
       "  style.textContent = [\n",
       "    \".vega-embed .error p {\",\n",
       "    \"  color: firebrick;\",\n",
       "    \"  font-size: 14px;\",\n",
       "    \"}\",\n",
       "  ].join(\"\\\\n\");\n",
       "\n",
       "  // element is a jQuery wrapped DOM element inside the output area\n",
       "  // see http://ipython.readthedocs.io/en/stable/api/generated/\\\n",
       "  // IPython.display.html#IPython.display.Javascript.__init__\n",
       "  element[0].appendChild(target);\n",
       "  element[0].appendChild(style);\n",
       "\n",
       "  vega.render(\"#\" + id, spec, type, opt, output_area);\n",
       "}, function (err) {\n",
       "  if (err.requireType !== \"scripterror\") {\n",
       "    throw(err);\n",
       "  }\n",
       "});\n"
      ],
      "text/plain": [
       "<vega.vegalite.VegaLite at 0x11cb1bda0>"
      ]
     },
     "metadata": {
      "jupyter-vega": "#3229b6c5-9876-4db1-9d06-e01a408ed1b2"
     },
     "output_type": "display_data"
    },
    {
     "data": {
      "text/plain": []
     },
     "execution_count": 19,
     "metadata": {},
     "output_type": "execute_result"
    },
    {
     "data": {
      "image/png": "[encoded data removed]"
     },
     "metadata": {
      "jupyter-vega": "#3229b6c5-9876-4db1-9d06-e01a408ed1b2"
     },
     "output_type": "display_data"
    }
   ],
   "source": [
    "alt.Chart(df1).mark_bar().encode(\n",
    "x = 'a',\n",
    "y = 'average(b)')"
   ]
  },
  {
   "cell_type": "code",
   "execution_count": 20,
   "metadata": {},
   "outputs": [
    {
     "data": {
      "application/javascript": [
       "const spec = {\"config\": {\"view\": {\"width\": 400, \"height\": 300}, \"mark\": {\"tooltip\": null}}, \"data\": {\"name\": \"data-6551d11dc8752f99bba2a02b538e0099\"}, \"mark\": \"bar\", \"encoding\": {\"x\": {\"type\": \"nominal\", \"field\": \"a\"}, \"y\": {\"type\": \"quantitative\", \"aggregate\": \"sum\", \"field\": \"b\"}}, \"$schema\": \"https://vega.github.io/schema/vega-lite/v3.4.0.json\", \"datasets\": {\"data-6551d11dc8752f99bba2a02b538e0099\": [{\"a\": \"A\", \"b\": 0.33770973021649064}, {\"a\": \"A\", \"b\": -0.9975886947553748}, {\"a\": \"A\", \"b\": -1.3186306622750028}, {\"a\": \"B\", \"b\": 1.2477734240703653}, {\"a\": \"B\", \"b\": 0.5515576989372529}, {\"a\": \"B\", \"b\": -0.7868754398294089}, {\"a\": \"C\", \"b\": -0.6217767330639045}, {\"a\": \"C\", \"b\": 0.6649077768973162}, {\"a\": \"C\", \"b\": 0.5703644914862741}]}};\n",
       "const opt = {};\n",
       "const type = \"vega-lite\";\n",
       "const id = \"07257e97-553f-4be7-a9b2-e125b028efec\";\n",
       "\n",
       "const output_area = this;\n",
       "\n",
       "require([\"nbextensions/jupyter-vega/index\"], function(vega) {\n",
       "  const target = document.createElement(\"div\");\n",
       "  target.id = id;\n",
       "  target.className = \"vega-embed\";\n",
       "\n",
       "  const style = document.createElement(\"style\");\n",
       "  style.textContent = [\n",
       "    \".vega-embed .error p {\",\n",
       "    \"  color: firebrick;\",\n",
       "    \"  font-size: 14px;\",\n",
       "    \"}\",\n",
       "  ].join(\"\\\\n\");\n",
       "\n",
       "  // element is a jQuery wrapped DOM element inside the output area\n",
       "  // see http://ipython.readthedocs.io/en/stable/api/generated/\\\n",
       "  // IPython.display.html#IPython.display.Javascript.__init__\n",
       "  element[0].appendChild(target);\n",
       "  element[0].appendChild(style);\n",
       "\n",
       "  vega.render(\"#\" + id, spec, type, opt, output_area);\n",
       "}, function (err) {\n",
       "  if (err.requireType !== \"scripterror\") {\n",
       "    throw(err);\n",
       "  }\n",
       "});\n"
      ],
      "text/plain": [
       "<vega.vegalite.VegaLite at 0x11caefef0>"
      ]
     },
     "metadata": {
      "jupyter-vega": "#07257e97-553f-4be7-a9b2-e125b028efec"
     },
     "output_type": "display_data"
    },
    {
     "data": {
      "text/plain": []
     },
     "execution_count": 20,
     "metadata": {},
     "output_type": "execute_result"
    },
    {
     "data": {
      "image/png": "[encoded data removed]"
     },
     "metadata": {
      "jupyter-vega": "#07257e97-553f-4be7-a9b2-e125b028efec"
     },
     "output_type": "display_data"
    }
   ],
   "source": [
    "alt.Chart(df1).mark_bar().encode(\n",
    "x = 'a',\n",
    "y = 'sum(b)')"
   ]
  },
  {
   "cell_type": "code",
   "execution_count": 21,
   "metadata": {},
   "outputs": [
    {
     "data": {
      "application/javascript": [
       "const spec = {\"config\": {\"view\": {\"width\": 400, \"height\": 300}, \"mark\": {\"tooltip\": null}}, \"data\": {\"name\": \"data-6551d11dc8752f99bba2a02b538e0099\"}, \"mark\": \"bar\", \"encoding\": {\"x\": {\"type\": \"quantitative\", \"aggregate\": \"average\", \"field\": \"b\"}, \"y\": {\"type\": \"nominal\", \"field\": \"a\"}}, \"$schema\": \"https://vega.github.io/schema/vega-lite/v3.4.0.json\", \"datasets\": {\"data-6551d11dc8752f99bba2a02b538e0099\": [{\"a\": \"A\", \"b\": 0.33770973021649064}, {\"a\": \"A\", \"b\": -0.9975886947553748}, {\"a\": \"A\", \"b\": -1.3186306622750028}, {\"a\": \"B\", \"b\": 1.2477734240703653}, {\"a\": \"B\", \"b\": 0.5515576989372529}, {\"a\": \"B\", \"b\": -0.7868754398294089}, {\"a\": \"C\", \"b\": -0.6217767330639045}, {\"a\": \"C\", \"b\": 0.6649077768973162}, {\"a\": \"C\", \"b\": 0.5703644914862741}]}};\n",
       "const opt = {};\n",
       "const type = \"vega-lite\";\n",
       "const id = \"8dbd72c2-9790-4c04-bf27-01ec4f096c21\";\n",
       "\n",
       "const output_area = this;\n",
       "\n",
       "require([\"nbextensions/jupyter-vega/index\"], function(vega) {\n",
       "  const target = document.createElement(\"div\");\n",
       "  target.id = id;\n",
       "  target.className = \"vega-embed\";\n",
       "\n",
       "  const style = document.createElement(\"style\");\n",
       "  style.textContent = [\n",
       "    \".vega-embed .error p {\",\n",
       "    \"  color: firebrick;\",\n",
       "    \"  font-size: 14px;\",\n",
       "    \"}\",\n",
       "  ].join(\"\\\\n\");\n",
       "\n",
       "  // element is a jQuery wrapped DOM element inside the output area\n",
       "  // see http://ipython.readthedocs.io/en/stable/api/generated/\\\n",
       "  // IPython.display.html#IPython.display.Javascript.__init__\n",
       "  element[0].appendChild(target);\n",
       "  element[0].appendChild(style);\n",
       "\n",
       "  vega.render(\"#\" + id, spec, type, opt, output_area);\n",
       "}, function (err) {\n",
       "  if (err.requireType !== \"scripterror\") {\n",
       "    throw(err);\n",
       "  }\n",
       "});\n"
      ],
      "text/plain": [
       "<vega.vegalite.VegaLite at 0x11cb1bba8>"
      ]
     },
     "metadata": {
      "jupyter-vega": "#8dbd72c2-9790-4c04-bf27-01ec4f096c21"
     },
     "output_type": "display_data"
    },
    {
     "data": {
      "text/plain": []
     },
     "execution_count": 21,
     "metadata": {},
     "output_type": "execute_result"
    },
    {
     "data": {
      "image/png": "[encoded data removed]"
     },
     "metadata": {
      "jupyter-vega": "#8dbd72c2-9790-4c04-bf27-01ec4f096c21"
     },
     "output_type": "display_data"
    }
   ],
   "source": [
    "alt.Chart(df1).mark_bar().encode(\n",
    "y = 'a',\n",
    "x = 'average(b)')"
   ]
  },
  {
   "cell_type": "code",
   "execution_count": 22,
   "metadata": {},
   "outputs": [
    {
     "data": {
      "application/javascript": [
       "const spec = {\"config\": {\"view\": {\"width\": 400, \"height\": 300}, \"mark\": {\"tooltip\": null}}, \"data\": {\"name\": \"data-6551d11dc8752f99bba2a02b538e0099\"}, \"mark\": \"point\", \"encoding\": {\"x\": {\"type\": \"quantitative\", \"aggregate\": \"average\", \"field\": \"b\"}, \"y\": {\"type\": \"nominal\", \"field\": \"a\"}}, \"$schema\": \"https://vega.github.io/schema/vega-lite/v3.4.0.json\", \"datasets\": {\"data-6551d11dc8752f99bba2a02b538e0099\": [{\"a\": \"A\", \"b\": 0.33770973021649064}, {\"a\": \"A\", \"b\": -0.9975886947553748}, {\"a\": \"A\", \"b\": -1.3186306622750028}, {\"a\": \"B\", \"b\": 1.2477734240703653}, {\"a\": \"B\", \"b\": 0.5515576989372529}, {\"a\": \"B\", \"b\": -0.7868754398294089}, {\"a\": \"C\", \"b\": -0.6217767330639045}, {\"a\": \"C\", \"b\": 0.6649077768973162}, {\"a\": \"C\", \"b\": 0.5703644914862741}]}};\n",
       "const opt = {};\n",
       "const type = \"vega-lite\";\n",
       "const id = \"9a91d9c3-7b26-41ba-b7a7-db74bbf3136a\";\n",
       "\n",
       "const output_area = this;\n",
       "\n",
       "require([\"nbextensions/jupyter-vega/index\"], function(vega) {\n",
       "  const target = document.createElement(\"div\");\n",
       "  target.id = id;\n",
       "  target.className = \"vega-embed\";\n",
       "\n",
       "  const style = document.createElement(\"style\");\n",
       "  style.textContent = [\n",
       "    \".vega-embed .error p {\",\n",
       "    \"  color: firebrick;\",\n",
       "    \"  font-size: 14px;\",\n",
       "    \"}\",\n",
       "  ].join(\"\\\\n\");\n",
       "\n",
       "  // element is a jQuery wrapped DOM element inside the output area\n",
       "  // see http://ipython.readthedocs.io/en/stable/api/generated/\\\n",
       "  // IPython.display.html#IPython.display.Javascript.__init__\n",
       "  element[0].appendChild(target);\n",
       "  element[0].appendChild(style);\n",
       "\n",
       "  vega.render(\"#\" + id, spec, type, opt, output_area);\n",
       "}, function (err) {\n",
       "  if (err.requireType !== \"scripterror\") {\n",
       "    throw(err);\n",
       "  }\n",
       "});\n"
      ],
      "text/plain": [
       "<vega.vegalite.VegaLite at 0x11cac1f60>"
      ]
     },
     "metadata": {
      "jupyter-vega": "#9a91d9c3-7b26-41ba-b7a7-db74bbf3136a"
     },
     "output_type": "display_data"
    },
    {
     "data": {
      "text/plain": []
     },
     "execution_count": 22,
     "metadata": {},
     "output_type": "execute_result"
    },
    {
     "data": {
      "image/png": "[encoded data removed]"
     },
     "metadata": {
      "jupyter-vega": "#9a91d9c3-7b26-41ba-b7a7-db74bbf3136a"
     },
     "output_type": "display_data"
    }
   ],
   "source": [
    "alt.Chart(df1).mark_point().encode(\n",
    "y = 'a',\n",
    "x = 'average(b)')"
   ]
  },
  {
   "cell_type": "code",
   "execution_count": null,
   "metadata": {},
   "outputs": [],
   "source": []
  }
 ],
 "metadata": {
  "kernelspec": {
   "display_name": "Python 3",
   "language": "python",
   "name": "python3"
  },
  "language_info": {
   "codemirror_mode": {
    "name": "ipython",
    "version": 3
   },
   "file_extension": ".py",
   "mimetype": "text/x-python",
   "name": "python",
   "nbconvert_exporter": "python",
   "pygments_lexer": "ipython3",
   "version": "3.7.3"
  }
 },
 "nbformat": 4,
 "nbformat_minor": 2
}
