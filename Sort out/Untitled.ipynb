{
 "cells": [
  {
   "cell_type": "code",
   "execution_count": 3,
   "metadata": {},
   "outputs": [
    {
     "data": {
      "application/javascript": [
       "const spec = {\"config\": {\"view\": {\"width\": 400, \"height\": 300}, \"mark\": {\"tooltip\": null}}, \"data\": {\"name\": \"data-a264acbd6e539a8b3afc0cb5f240fb57\"}, \"mark\": \"point\", \"encoding\": {\"color\": {\"type\": \"nominal\", \"field\": \"species\"}, \"x\": {\"type\": \"quantitative\", \"field\": \"petalLength\"}, \"y\": {\"type\": \"quantitative\", \"field\": \"petalWidth\"}}, \"$schema\": \"https://vega.github.io/schema/vega-lite/v3.4.0.json\", \"datasets\": {\"data-a264acbd6e539a8b3afc0cb5f240fb57\": [{\"petalLength\": 1.4, \"petalWidth\": 0.2, \"sepalLength\": 5.1, \"sepalWidth\": 3.5, \"species\": \"setosa\"}, {\"petalLength\": 1.4, \"petalWidth\": 0.2, \"sepalLength\": 4.9, \"sepalWidth\": 3.0, \"species\": \"setosa\"}, {\"petalLength\": 1.3, \"petalWidth\": 0.2, \"sepalLength\": 4.7, \"sepalWidth\": 3.2, \"species\": \"setosa\"}, {\"petalLength\": 1.5, \"petalWidth\": 0.2, \"sepalLength\": 4.6, \"sepalWidth\": 3.1, \"species\": \"setosa\"}, {\"petalLength\": 1.4, \"petalWidth\": 0.2, \"sepalLength\": 5.0, \"sepalWidth\": 3.6, \"species\": \"setosa\"}, {\"petalLength\": 1.7000000000000002, \"petalWidth\": 0.4, \"sepalLength\": 5.4, \"sepalWidth\": 3.9, \"species\": \"setosa\"}, {\"petalLength\": 1.4, \"petalWidth\": 0.30000000000000004, \"sepalLength\": 4.6, \"sepalWidth\": 3.4, \"species\": \"setosa\"}, {\"petalLength\": 1.5, \"petalWidth\": 0.2, \"sepalLength\": 5.0, \"sepalWidth\": 3.4, \"species\": \"setosa\"}, {\"petalLength\": 1.4, \"petalWidth\": 0.2, \"sepalLength\": 4.4, \"sepalWidth\": 2.9, \"species\": \"setosa\"}, {\"petalLength\": 1.5, \"petalWidth\": 0.1, \"sepalLength\": 4.9, \"sepalWidth\": 3.1, \"species\": \"setosa\"}, {\"petalLength\": 1.5, \"petalWidth\": 0.2, \"sepalLength\": 5.4, \"sepalWidth\": 3.7, \"species\": \"setosa\"}, {\"petalLength\": 1.6, \"petalWidth\": 0.2, \"sepalLength\": 4.8, \"sepalWidth\": 3.4, \"species\": \"setosa\"}, {\"petalLength\": 1.4, \"petalWidth\": 0.1, \"sepalLength\": 4.8, \"sepalWidth\": 3.0, \"species\": \"setosa\"}, {\"petalLength\": 1.1, \"petalWidth\": 0.1, \"sepalLength\": 4.3, \"sepalWidth\": 3.0, \"species\": \"setosa\"}, {\"petalLength\": 1.2, \"petalWidth\": 0.2, \"sepalLength\": 5.8, \"sepalWidth\": 4.0, \"species\": \"setosa\"}, {\"petalLength\": 1.5, \"petalWidth\": 0.4, \"sepalLength\": 5.7, \"sepalWidth\": 4.4, \"species\": \"setosa\"}, {\"petalLength\": 1.3, \"petalWidth\": 0.4, \"sepalLength\": 5.4, \"sepalWidth\": 3.9, \"species\": \"setosa\"}, {\"petalLength\": 1.4, \"petalWidth\": 0.30000000000000004, \"sepalLength\": 5.1, \"sepalWidth\": 3.5, \"species\": \"setosa\"}, {\"petalLength\": 1.7000000000000002, \"petalWidth\": 0.30000000000000004, \"sepalLength\": 5.7, \"sepalWidth\": 3.8, \"species\": \"setosa\"}, {\"petalLength\": 1.5, \"petalWidth\": 0.30000000000000004, \"sepalLength\": 5.1, \"sepalWidth\": 3.8, \"species\": \"setosa\"}, {\"petalLength\": 1.7000000000000002, \"petalWidth\": 0.2, \"sepalLength\": 5.4, \"sepalWidth\": 3.4, \"species\": \"setosa\"}, {\"petalLength\": 1.5, \"petalWidth\": 0.4, \"sepalLength\": 5.1, \"sepalWidth\": 3.7, \"species\": \"setosa\"}, {\"petalLength\": 1.0, \"petalWidth\": 0.2, \"sepalLength\": 4.6, \"sepalWidth\": 3.6, \"species\": \"setosa\"}, {\"petalLength\": 1.7000000000000002, \"petalWidth\": 0.5, \"sepalLength\": 5.1, \"sepalWidth\": 3.3, \"species\": \"setosa\"}, {\"petalLength\": 1.9, \"petalWidth\": 0.2, \"sepalLength\": 4.8, \"sepalWidth\": 3.4, \"species\": \"setosa\"}, {\"petalLength\": 1.6, \"petalWidth\": 0.2, \"sepalLength\": 5.0, \"sepalWidth\": 3.0, \"species\": \"setosa\"}, {\"petalLength\": 1.6, \"petalWidth\": 0.4, \"sepalLength\": 5.0, \"sepalWidth\": 3.4, \"species\": \"setosa\"}, {\"petalLength\": 1.5, \"petalWidth\": 0.2, \"sepalLength\": 5.2, \"sepalWidth\": 3.5, \"species\": \"setosa\"}, {\"petalLength\": 1.4, \"petalWidth\": 0.2, \"sepalLength\": 5.2, \"sepalWidth\": 3.4, \"species\": \"setosa\"}, {\"petalLength\": 1.6, \"petalWidth\": 0.2, \"sepalLength\": 4.7, \"sepalWidth\": 3.2, \"species\": \"setosa\"}, {\"petalLength\": 1.6, \"petalWidth\": 0.2, \"sepalLength\": 4.8, \"sepalWidth\": 3.1, \"species\": \"setosa\"}, {\"petalLength\": 1.5, \"petalWidth\": 0.4, \"sepalLength\": 5.4, \"sepalWidth\": 3.4, \"species\": \"setosa\"}, {\"petalLength\": 1.5, \"petalWidth\": 0.1, \"sepalLength\": 5.2, \"sepalWidth\": 4.1, \"species\": \"setosa\"}, {\"petalLength\": 1.4, \"petalWidth\": 0.2, \"sepalLength\": 5.5, \"sepalWidth\": 4.2, \"species\": \"setosa\"}, {\"petalLength\": 1.5, \"petalWidth\": 0.2, \"sepalLength\": 4.9, \"sepalWidth\": 3.1, \"species\": \"setosa\"}, {\"petalLength\": 1.2, \"petalWidth\": 0.2, \"sepalLength\": 5.0, \"sepalWidth\": 3.2, \"species\": \"setosa\"}, {\"petalLength\": 1.3, \"petalWidth\": 0.2, \"sepalLength\": 5.5, \"sepalWidth\": 3.5, \"species\": \"setosa\"}, {\"petalLength\": 1.4, \"petalWidth\": 0.1, \"sepalLength\": 4.9, \"sepalWidth\": 3.6, \"species\": \"setosa\"}, {\"petalLength\": 1.3, \"petalWidth\": 0.2, \"sepalLength\": 4.4, \"sepalWidth\": 3.0, \"species\": \"setosa\"}, {\"petalLength\": 1.5, \"petalWidth\": 0.2, \"sepalLength\": 5.1, \"sepalWidth\": 3.4, \"species\": \"setosa\"}, {\"petalLength\": 1.3, \"petalWidth\": 0.30000000000000004, \"sepalLength\": 5.0, \"sepalWidth\": 3.5, \"species\": \"setosa\"}, {\"petalLength\": 1.3, \"petalWidth\": 0.30000000000000004, \"sepalLength\": 4.5, \"sepalWidth\": 2.3, \"species\": \"setosa\"}, {\"petalLength\": 1.3, \"petalWidth\": 0.2, \"sepalLength\": 4.4, \"sepalWidth\": 3.2, \"species\": \"setosa\"}, {\"petalLength\": 1.6, \"petalWidth\": 0.6000000000000001, \"sepalLength\": 5.0, \"sepalWidth\": 3.5, \"species\": \"setosa\"}, {\"petalLength\": 1.9, \"petalWidth\": 0.4, \"sepalLength\": 5.1, \"sepalWidth\": 3.8, \"species\": \"setosa\"}, {\"petalLength\": 1.4, \"petalWidth\": 0.30000000000000004, \"sepalLength\": 4.8, \"sepalWidth\": 3.0, \"species\": \"setosa\"}, {\"petalLength\": 1.6, \"petalWidth\": 0.2, \"sepalLength\": 5.1, \"sepalWidth\": 3.8, \"species\": \"setosa\"}, {\"petalLength\": 1.4, \"petalWidth\": 0.2, \"sepalLength\": 4.6, \"sepalWidth\": 3.2, \"species\": \"setosa\"}, {\"petalLength\": 1.5, \"petalWidth\": 0.2, \"sepalLength\": 5.3, \"sepalWidth\": 3.7, \"species\": \"setosa\"}, {\"petalLength\": 1.4, \"petalWidth\": 0.2, \"sepalLength\": 5.0, \"sepalWidth\": 3.3, \"species\": \"setosa\"}, {\"petalLength\": 4.7, \"petalWidth\": 1.4, \"sepalLength\": 7.0, \"sepalWidth\": 3.2, \"species\": \"versicolor\"}, {\"petalLength\": 4.5, \"petalWidth\": 1.5, \"sepalLength\": 6.4, \"sepalWidth\": 3.2, \"species\": \"versicolor\"}, {\"petalLength\": 4.9, \"petalWidth\": 1.5, \"sepalLength\": 6.9, \"sepalWidth\": 3.1, \"species\": \"versicolor\"}, {\"petalLength\": 4.0, \"petalWidth\": 1.3, \"sepalLength\": 5.5, \"sepalWidth\": 2.3, \"species\": \"versicolor\"}, {\"petalLength\": 4.6, \"petalWidth\": 1.5, \"sepalLength\": 6.5, \"sepalWidth\": 2.8, \"species\": \"versicolor\"}, {\"petalLength\": 4.5, \"petalWidth\": 1.3, \"sepalLength\": 5.7, \"sepalWidth\": 2.8, \"species\": \"versicolor\"}, {\"petalLength\": 4.7, \"petalWidth\": 1.6, \"sepalLength\": 6.3, \"sepalWidth\": 3.3, \"species\": \"versicolor\"}, {\"petalLength\": 3.3, \"petalWidth\": 1.0, \"sepalLength\": 4.9, \"sepalWidth\": 2.4, \"species\": \"versicolor\"}, {\"petalLength\": 4.6, \"petalWidth\": 1.3, \"sepalLength\": 6.6, \"sepalWidth\": 2.9, \"species\": \"versicolor\"}, {\"petalLength\": 3.9, \"petalWidth\": 1.4, \"sepalLength\": 5.2, \"sepalWidth\": 2.7, \"species\": \"versicolor\"}, {\"petalLength\": 3.5, \"petalWidth\": 1.0, \"sepalLength\": 5.0, \"sepalWidth\": 2.0, \"species\": \"versicolor\"}, {\"petalLength\": 4.2, \"petalWidth\": 1.5, \"sepalLength\": 5.9, \"sepalWidth\": 3.0, \"species\": \"versicolor\"}, {\"petalLength\": 4.0, \"petalWidth\": 1.0, \"sepalLength\": 6.0, \"sepalWidth\": 2.2, \"species\": \"versicolor\"}, {\"petalLength\": 4.7, \"petalWidth\": 1.4, \"sepalLength\": 6.1, \"sepalWidth\": 2.9, \"species\": \"versicolor\"}, {\"petalLength\": 3.6, \"petalWidth\": 1.3, \"sepalLength\": 5.6, \"sepalWidth\": 2.9, \"species\": \"versicolor\"}, {\"petalLength\": 4.4, \"petalWidth\": 1.4, \"sepalLength\": 6.7, \"sepalWidth\": 3.1, \"species\": \"versicolor\"}, {\"petalLength\": 4.5, \"petalWidth\": 1.5, \"sepalLength\": 5.6, \"sepalWidth\": 3.0, \"species\": \"versicolor\"}, {\"petalLength\": 4.1, \"petalWidth\": 1.0, \"sepalLength\": 5.8, \"sepalWidth\": 2.7, \"species\": \"versicolor\"}, {\"petalLength\": 4.5, \"petalWidth\": 1.5, \"sepalLength\": 6.2, \"sepalWidth\": 2.2, \"species\": \"versicolor\"}, {\"petalLength\": 3.9, \"petalWidth\": 1.1, \"sepalLength\": 5.6, \"sepalWidth\": 2.5, \"species\": \"versicolor\"}, {\"petalLength\": 4.8, \"petalWidth\": 1.8, \"sepalLength\": 5.9, \"sepalWidth\": 3.2, \"species\": \"versicolor\"}, {\"petalLength\": 4.0, \"petalWidth\": 1.3, \"sepalLength\": 6.1, \"sepalWidth\": 2.8, \"species\": \"versicolor\"}, {\"petalLength\": 4.9, \"petalWidth\": 1.5, \"sepalLength\": 6.3, \"sepalWidth\": 2.5, \"species\": \"versicolor\"}, {\"petalLength\": 4.7, \"petalWidth\": 1.2, \"sepalLength\": 6.1, \"sepalWidth\": 2.8, \"species\": \"versicolor\"}, {\"petalLength\": 4.3, \"petalWidth\": 1.3, \"sepalLength\": 6.4, \"sepalWidth\": 2.9, \"species\": \"versicolor\"}, {\"petalLength\": 4.4, \"petalWidth\": 1.4, \"sepalLength\": 6.6, \"sepalWidth\": 3.0, \"species\": \"versicolor\"}, {\"petalLength\": 4.8, \"petalWidth\": 1.4, \"sepalLength\": 6.8, \"sepalWidth\": 2.8, \"species\": \"versicolor\"}, {\"petalLength\": 5.0, \"petalWidth\": 1.7000000000000002, \"sepalLength\": 6.7, \"sepalWidth\": 3.0, \"species\": \"versicolor\"}, {\"petalLength\": 4.5, \"petalWidth\": 1.5, \"sepalLength\": 6.0, \"sepalWidth\": 2.9, \"species\": \"versicolor\"}, {\"petalLength\": 3.5, \"petalWidth\": 1.0, \"sepalLength\": 5.7, \"sepalWidth\": 2.6, \"species\": \"versicolor\"}, {\"petalLength\": 3.8, \"petalWidth\": 1.1, \"sepalLength\": 5.5, \"sepalWidth\": 2.4, \"species\": \"versicolor\"}, {\"petalLength\": 3.7, \"petalWidth\": 1.0, \"sepalLength\": 5.5, \"sepalWidth\": 2.4, \"species\": \"versicolor\"}, {\"petalLength\": 3.9, \"petalWidth\": 1.2, \"sepalLength\": 5.8, \"sepalWidth\": 2.7, \"species\": \"versicolor\"}, {\"petalLength\": 5.1, \"petalWidth\": 1.6, \"sepalLength\": 6.0, \"sepalWidth\": 2.7, \"species\": \"versicolor\"}, {\"petalLength\": 4.5, \"petalWidth\": 1.5, \"sepalLength\": 5.4, \"sepalWidth\": 3.0, \"species\": \"versicolor\"}, {\"petalLength\": 4.5, \"petalWidth\": 1.6, \"sepalLength\": 6.0, \"sepalWidth\": 3.4, \"species\": \"versicolor\"}, {\"petalLength\": 4.7, \"petalWidth\": 1.5, \"sepalLength\": 6.7, \"sepalWidth\": 3.1, \"species\": \"versicolor\"}, {\"petalLength\": 4.4, \"petalWidth\": 1.3, \"sepalLength\": 6.3, \"sepalWidth\": 2.3, \"species\": \"versicolor\"}, {\"petalLength\": 4.1, \"petalWidth\": 1.3, \"sepalLength\": 5.6, \"sepalWidth\": 3.0, \"species\": \"versicolor\"}, {\"petalLength\": 4.0, \"petalWidth\": 1.3, \"sepalLength\": 5.5, \"sepalWidth\": 2.5, \"species\": \"versicolor\"}, {\"petalLength\": 4.4, \"petalWidth\": 1.2, \"sepalLength\": 5.5, \"sepalWidth\": 2.6, \"species\": \"versicolor\"}, {\"petalLength\": 4.6, \"petalWidth\": 1.4, \"sepalLength\": 6.1, \"sepalWidth\": 3.0, \"species\": \"versicolor\"}, {\"petalLength\": 4.0, \"petalWidth\": 1.2, \"sepalLength\": 5.8, \"sepalWidth\": 2.6, \"species\": \"versicolor\"}, {\"petalLength\": 3.3, \"petalWidth\": 1.0, \"sepalLength\": 5.0, \"sepalWidth\": 2.3, \"species\": \"versicolor\"}, {\"petalLength\": 4.2, \"petalWidth\": 1.3, \"sepalLength\": 5.6, \"sepalWidth\": 2.7, \"species\": \"versicolor\"}, {\"petalLength\": 4.2, \"petalWidth\": 1.2, \"sepalLength\": 5.7, \"sepalWidth\": 3.0, \"species\": \"versicolor\"}, {\"petalLength\": 4.2, \"petalWidth\": 1.3, \"sepalLength\": 5.7, \"sepalWidth\": 2.9, \"species\": \"versicolor\"}, {\"petalLength\": 4.3, \"petalWidth\": 1.3, \"sepalLength\": 6.2, \"sepalWidth\": 2.9, \"species\": \"versicolor\"}, {\"petalLength\": 3.0, \"petalWidth\": 1.1, \"sepalLength\": 5.1, \"sepalWidth\": 2.5, \"species\": \"versicolor\"}, {\"petalLength\": 4.1, \"petalWidth\": 1.3, \"sepalLength\": 5.7, \"sepalWidth\": 2.8, \"species\": \"versicolor\"}, {\"petalLength\": 6.0, \"petalWidth\": 2.5, \"sepalLength\": 6.3, \"sepalWidth\": 3.3, \"species\": \"virginica\"}, {\"petalLength\": 5.1, \"petalWidth\": 1.9, \"sepalLength\": 5.8, \"sepalWidth\": 2.7, \"species\": \"virginica\"}, {\"petalLength\": 5.9, \"petalWidth\": 2.1, \"sepalLength\": 7.1, \"sepalWidth\": 3.0, \"species\": \"virginica\"}, {\"petalLength\": 5.6, \"petalWidth\": 1.8, \"sepalLength\": 6.3, \"sepalWidth\": 2.9, \"species\": \"virginica\"}, {\"petalLength\": 5.8, \"petalWidth\": 2.2, \"sepalLength\": 6.5, \"sepalWidth\": 3.0, \"species\": \"virginica\"}, {\"petalLength\": 6.6, \"petalWidth\": 2.1, \"sepalLength\": 7.6, \"sepalWidth\": 3.0, \"species\": \"virginica\"}, {\"petalLength\": 4.5, \"petalWidth\": 1.7000000000000002, \"sepalLength\": 4.9, \"sepalWidth\": 2.5, \"species\": \"virginica\"}, {\"petalLength\": 6.3, \"petalWidth\": 1.8, \"sepalLength\": 7.3, \"sepalWidth\": 2.9, \"species\": \"virginica\"}, {\"petalLength\": 5.8, \"petalWidth\": 1.8, \"sepalLength\": 6.7, \"sepalWidth\": 2.5, \"species\": \"virginica\"}, {\"petalLength\": 6.1, \"petalWidth\": 2.5, \"sepalLength\": 7.2, \"sepalWidth\": 3.6, \"species\": \"virginica\"}, {\"petalLength\": 5.1, \"petalWidth\": 2.0, \"sepalLength\": 6.5, \"sepalWidth\": 3.2, \"species\": \"virginica\"}, {\"petalLength\": 5.3, \"petalWidth\": 1.9, \"sepalLength\": 6.4, \"sepalWidth\": 2.7, \"species\": \"virginica\"}, {\"petalLength\": 5.5, \"petalWidth\": 2.1, \"sepalLength\": 6.8, \"sepalWidth\": 3.0, \"species\": \"virginica\"}, {\"petalLength\": 5.0, \"petalWidth\": 2.0, \"sepalLength\": 5.7, \"sepalWidth\": 2.5, \"species\": \"virginica\"}, {\"petalLength\": 5.1, \"petalWidth\": 2.4, \"sepalLength\": 5.8, \"sepalWidth\": 2.8, \"species\": \"virginica\"}, {\"petalLength\": 5.3, \"petalWidth\": 2.3, \"sepalLength\": 6.4, \"sepalWidth\": 3.2, \"species\": \"virginica\"}, {\"petalLength\": 5.5, \"petalWidth\": 1.8, \"sepalLength\": 6.5, \"sepalWidth\": 3.0, \"species\": \"virginica\"}, {\"petalLength\": 6.7, \"petalWidth\": 2.2, \"sepalLength\": 7.7, \"sepalWidth\": 3.8, \"species\": \"virginica\"}, {\"petalLength\": 6.9, \"petalWidth\": 2.3, \"sepalLength\": 7.7, \"sepalWidth\": 2.6, \"species\": \"virginica\"}, {\"petalLength\": 5.0, \"petalWidth\": 1.5, \"sepalLength\": 6.0, \"sepalWidth\": 2.2, \"species\": \"virginica\"}, {\"petalLength\": 5.7, \"petalWidth\": 2.3, \"sepalLength\": 6.9, \"sepalWidth\": 3.2, \"species\": \"virginica\"}, {\"petalLength\": 4.9, \"petalWidth\": 2.0, \"sepalLength\": 5.6, \"sepalWidth\": 2.8, \"species\": \"virginica\"}, {\"petalLength\": 6.7, \"petalWidth\": 2.0, \"sepalLength\": 7.7, \"sepalWidth\": 2.8, \"species\": \"virginica\"}, {\"petalLength\": 4.9, \"petalWidth\": 1.8, \"sepalLength\": 6.3, \"sepalWidth\": 2.7, \"species\": \"virginica\"}, {\"petalLength\": 5.7, \"petalWidth\": 2.1, \"sepalLength\": 6.7, \"sepalWidth\": 3.3, \"species\": \"virginica\"}, {\"petalLength\": 6.0, \"petalWidth\": 1.8, \"sepalLength\": 7.2, \"sepalWidth\": 3.2, \"species\": \"virginica\"}, {\"petalLength\": 4.8, \"petalWidth\": 1.8, \"sepalLength\": 6.2, \"sepalWidth\": 2.8, \"species\": \"virginica\"}, {\"petalLength\": 4.9, \"petalWidth\": 1.8, \"sepalLength\": 6.1, \"sepalWidth\": 3.0, \"species\": \"virginica\"}, {\"petalLength\": 5.6, \"petalWidth\": 2.1, \"sepalLength\": 6.4, \"sepalWidth\": 2.8, \"species\": \"virginica\"}, {\"petalLength\": 5.8, \"petalWidth\": 1.6, \"sepalLength\": 7.2, \"sepalWidth\": 3.0, \"species\": \"virginica\"}, {\"petalLength\": 6.1, \"petalWidth\": 1.9, \"sepalLength\": 7.4, \"sepalWidth\": 2.8, \"species\": \"virginica\"}, {\"petalLength\": 6.4, \"petalWidth\": 2.0, \"sepalLength\": 7.9, \"sepalWidth\": 3.8, \"species\": \"virginica\"}, {\"petalLength\": 5.6, \"petalWidth\": 2.2, \"sepalLength\": 6.4, \"sepalWidth\": 2.8, \"species\": \"virginica\"}, {\"petalLength\": 5.1, \"petalWidth\": 1.5, \"sepalLength\": 6.3, \"sepalWidth\": 2.8, \"species\": \"virginica\"}, {\"petalLength\": 5.6, \"petalWidth\": 1.4, \"sepalLength\": 6.1, \"sepalWidth\": 2.6, \"species\": \"virginica\"}, {\"petalLength\": 6.1, \"petalWidth\": 2.3, \"sepalLength\": 7.7, \"sepalWidth\": 3.0, \"species\": \"virginica\"}, {\"petalLength\": 5.6, \"petalWidth\": 2.4, \"sepalLength\": 6.3, \"sepalWidth\": 3.4, \"species\": \"virginica\"}, {\"petalLength\": 5.5, \"petalWidth\": 1.8, \"sepalLength\": 6.4, \"sepalWidth\": 3.1, \"species\": \"virginica\"}, {\"petalLength\": 4.8, \"petalWidth\": 1.8, \"sepalLength\": 6.0, \"sepalWidth\": 3.0, \"species\": \"virginica\"}, {\"petalLength\": 5.4, \"petalWidth\": 2.1, \"sepalLength\": 6.9, \"sepalWidth\": 3.1, \"species\": \"virginica\"}, {\"petalLength\": 5.6, \"petalWidth\": 2.4, \"sepalLength\": 6.7, \"sepalWidth\": 3.1, \"species\": \"virginica\"}, {\"petalLength\": 5.1, \"petalWidth\": 2.3, \"sepalLength\": 6.9, \"sepalWidth\": 3.1, \"species\": \"virginica\"}, {\"petalLength\": 5.1, \"petalWidth\": 1.9, \"sepalLength\": 5.8, \"sepalWidth\": 2.7, \"species\": \"virginica\"}, {\"petalLength\": 5.9, \"petalWidth\": 2.3, \"sepalLength\": 6.8, \"sepalWidth\": 3.2, \"species\": \"virginica\"}, {\"petalLength\": 5.7, \"petalWidth\": 2.5, \"sepalLength\": 6.7, \"sepalWidth\": 3.3, \"species\": \"virginica\"}, {\"petalLength\": 5.2, \"petalWidth\": 2.3, \"sepalLength\": 6.7, \"sepalWidth\": 3.0, \"species\": \"virginica\"}, {\"petalLength\": 5.0, \"petalWidth\": 1.9, \"sepalLength\": 6.3, \"sepalWidth\": 2.5, \"species\": \"virginica\"}, {\"petalLength\": 5.2, \"petalWidth\": 2.0, \"sepalLength\": 6.5, \"sepalWidth\": 3.0, \"species\": \"virginica\"}, {\"petalLength\": 5.4, \"petalWidth\": 2.3, \"sepalLength\": 6.2, \"sepalWidth\": 3.4, \"species\": \"virginica\"}, {\"petalLength\": 5.1, \"petalWidth\": 1.8, \"sepalLength\": 5.9, \"sepalWidth\": 3.0, \"species\": \"virginica\"}]}};\n",
       "const opt = {};\n",
       "const type = \"vega-lite\";\n",
       "const id = \"20c950cb-2f6f-4f67-94ca-89951b587a6b\";\n",
       "\n",
       "const output_area = this;\n",
       "\n",
       "require([\"nbextensions/jupyter-vega/index\"], function(vega) {\n",
       "  const target = document.createElement(\"div\");\n",
       "  target.id = id;\n",
       "  target.className = \"vega-embed\";\n",
       "\n",
       "  const style = document.createElement(\"style\");\n",
       "  style.textContent = [\n",
       "    \".vega-embed .error p {\",\n",
       "    \"  color: firebrick;\",\n",
       "    \"  font-size: 14px;\",\n",
       "    \"}\",\n",
       "  ].join(\"\\\\n\");\n",
       "\n",
       "  // element is a jQuery wrapped DOM element inside the output area\n",
       "  // see http://ipython.readthedocs.io/en/stable/api/generated/\\\n",
       "  // IPython.display.html#IPython.display.Javascript.__init__\n",
       "  element[0].appendChild(target);\n",
       "  element[0].appendChild(style);\n",
       "\n",
       "  vega.render(\"#\" + id, spec, type, opt, output_area);\n",
       "}, function (err) {\n",
       "  if (err.requireType !== \"scripterror\") {\n",
       "    throw(err);\n",
       "  }\n",
       "});\n"
      ],
      "text/plain": [
       "<vega.vegalite.VegaLite at 0x11511a0b8>"
      ]
     },
     "metadata": {
      "jupyter-vega": "#20c950cb-2f6f-4f67-94ca-89951b587a6b"
     },
     "output_type": "display_data"
    },
    {
     "data": {
      "text/plain": []
     },
     "execution_count": 3,
     "metadata": {},
     "output_type": "execute_result"
    }
   ],
   "source": [
    "import altair as alt\n",
    "from vega_datasets import data\n",
    "\n",
    "# for the notebook only (not for JupyterLab) run this command once per session\n",
    "alt.renderers.enable('notebook')\n",
    "\n",
    "iris = data.iris()\n",
    "\n",
    "alt.Chart(iris).mark_point().encode(\n",
    "    x='petalLength',\n",
    "    y='petalWidth',\n",
    "    color='species'\n",
    ")"
   ]
  },
  {
   "cell_type": "code",
   "execution_count": null,
   "metadata": {},
   "outputs": [],
   "source": []
  }
 ],
 "metadata": {
  "kernelspec": {
   "display_name": "Python 3",
   "language": "python",
   "name": "python3"
  },
  "language_info": {
   "codemirror_mode": {
    "name": "ipython",
    "version": 3
   },
   "file_extension": ".py",
   "mimetype": "text/x-python",
   "name": "python",
   "nbconvert_exporter": "python",
   "pygments_lexer": "ipython3",
   "version": "3.7.3"
  }
 },
 "nbformat": 4,
 "nbformat_minor": 2
}
